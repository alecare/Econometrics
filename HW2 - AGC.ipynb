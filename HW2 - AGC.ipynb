{
  "cells": [
    {
      "cell_type": "code",
      "execution_count": 3,
      "id": "473f1c06-c747-46d9-897f-691c42cd7abd",
      "metadata": {
        "tags": [],
        "id": "473f1c06-c747-46d9-897f-691c42cd7abd"
      },
      "outputs": [],
      "source": [
        "import pandas as pd\n",
        "import numpy as np\n",
        "import matplotlib.pyplot as plt\n",
        "import scipy.stats as stats\n",
        "from scipy.stats import levene"
      ]
    },
    {
      "cell_type": "markdown",
      "id": "7b833685-06e8-4a67-89c0-2fc90722bb6e",
      "metadata": {
        "id": "7b833685-06e8-4a67-89c0-2fc90722bb6e"
      },
      "source": [
        "## Question 1\n",
        "#### letter d)"
      ]
    },
    {
      "cell_type": "code",
      "execution_count": 10,
      "id": "1832ab6f-afbd-4c0e-a8c1-948c4baf0f4e",
      "metadata": {
        "tags": [],
        "colab": {
          "base_uri": "https://localhost:8080/",
          "height": 382
        },
        "id": "1832ab6f-afbd-4c0e-a8c1-948c4baf0f4e",
        "outputId": "ece8db2b-4ef1-4042-f054-4592b9b89d4c"
      },
      "outputs": [
        {
          "output_type": "error",
          "ename": "FileNotFoundError",
          "evalue": "ignored",
          "traceback": [
            "\u001b[0;31m---------------------------------------------------------------------------\u001b[0m",
            "\u001b[0;31mFileNotFoundError\u001b[0m                         Traceback (most recent call last)",
            "\u001b[0;32m<ipython-input-10-3c8569b2dd90>\u001b[0m in \u001b[0;36m<cell line: 1>\u001b[0;34m()\u001b[0m\n\u001b[0;32m----> 1\u001b[0;31m \u001b[0mdf\u001b[0m \u001b[0;34m=\u001b[0m \u001b[0mpd\u001b[0m\u001b[0;34m.\u001b[0m\u001b[0mread_excel\u001b[0m\u001b[0;34m(\u001b[0m\u001b[0;34m'wage.xlsx'\u001b[0m\u001b[0;34m)\u001b[0m\u001b[0;34m\u001b[0m\u001b[0;34m\u001b[0m\u001b[0m\n\u001b[0m\u001b[1;32m      2\u001b[0m \u001b[0mdf\u001b[0m\u001b[0;34m[\u001b[0m\u001b[0;34m'lwage'\u001b[0m\u001b[0;34m]\u001b[0m \u001b[0;34m=\u001b[0m \u001b[0mnp\u001b[0m\u001b[0;34m.\u001b[0m\u001b[0mlog\u001b[0m\u001b[0;34m(\u001b[0m\u001b[0mdf\u001b[0m\u001b[0;34m[\u001b[0m\u001b[0;34m'wage'\u001b[0m\u001b[0;34m]\u001b[0m\u001b[0;34m)\u001b[0m\u001b[0;34m\u001b[0m\u001b[0;34m\u001b[0m\u001b[0m\n\u001b[1;32m      3\u001b[0m \u001b[0mdf\u001b[0m \u001b[0;34m=\u001b[0m \u001b[0mdf\u001b[0m\u001b[0;34m[\u001b[0m\u001b[0;34m[\u001b[0m\u001b[0;34m'lwage'\u001b[0m\u001b[0;34m,\u001b[0m\u001b[0;34m'male'\u001b[0m\u001b[0;34m]\u001b[0m\u001b[0;34m]\u001b[0m\u001b[0;34m\u001b[0m\u001b[0;34m\u001b[0m\u001b[0m\n\u001b[1;32m      4\u001b[0m \u001b[0mdf\u001b[0m\u001b[0;34m\u001b[0m\u001b[0;34m\u001b[0m\u001b[0m\n",
            "\u001b[0;32m/usr/local/lib/python3.10/dist-packages/pandas/util/_decorators.py\u001b[0m in \u001b[0;36mwrapper\u001b[0;34m(*args, **kwargs)\u001b[0m\n\u001b[1;32m    209\u001b[0m                 \u001b[0;32melse\u001b[0m\u001b[0;34m:\u001b[0m\u001b[0;34m\u001b[0m\u001b[0;34m\u001b[0m\u001b[0m\n\u001b[1;32m    210\u001b[0m                     \u001b[0mkwargs\u001b[0m\u001b[0;34m[\u001b[0m\u001b[0mnew_arg_name\u001b[0m\u001b[0;34m]\u001b[0m \u001b[0;34m=\u001b[0m \u001b[0mnew_arg_value\u001b[0m\u001b[0;34m\u001b[0m\u001b[0;34m\u001b[0m\u001b[0m\n\u001b[0;32m--> 211\u001b[0;31m             \u001b[0;32mreturn\u001b[0m \u001b[0mfunc\u001b[0m\u001b[0;34m(\u001b[0m\u001b[0;34m*\u001b[0m\u001b[0margs\u001b[0m\u001b[0;34m,\u001b[0m \u001b[0;34m**\u001b[0m\u001b[0mkwargs\u001b[0m\u001b[0;34m)\u001b[0m\u001b[0;34m\u001b[0m\u001b[0;34m\u001b[0m\u001b[0m\n\u001b[0m\u001b[1;32m    212\u001b[0m \u001b[0;34m\u001b[0m\u001b[0m\n\u001b[1;32m    213\u001b[0m         \u001b[0;32mreturn\u001b[0m \u001b[0mcast\u001b[0m\u001b[0;34m(\u001b[0m\u001b[0mF\u001b[0m\u001b[0;34m,\u001b[0m \u001b[0mwrapper\u001b[0m\u001b[0;34m)\u001b[0m\u001b[0;34m\u001b[0m\u001b[0;34m\u001b[0m\u001b[0m\n",
            "\u001b[0;32m/usr/local/lib/python3.10/dist-packages/pandas/util/_decorators.py\u001b[0m in \u001b[0;36mwrapper\u001b[0;34m(*args, **kwargs)\u001b[0m\n\u001b[1;32m    329\u001b[0m                     \u001b[0mstacklevel\u001b[0m\u001b[0;34m=\u001b[0m\u001b[0mfind_stack_level\u001b[0m\u001b[0;34m(\u001b[0m\u001b[0;34m)\u001b[0m\u001b[0;34m,\u001b[0m\u001b[0;34m\u001b[0m\u001b[0;34m\u001b[0m\u001b[0m\n\u001b[1;32m    330\u001b[0m                 )\n\u001b[0;32m--> 331\u001b[0;31m             \u001b[0;32mreturn\u001b[0m \u001b[0mfunc\u001b[0m\u001b[0;34m(\u001b[0m\u001b[0;34m*\u001b[0m\u001b[0margs\u001b[0m\u001b[0;34m,\u001b[0m \u001b[0;34m**\u001b[0m\u001b[0mkwargs\u001b[0m\u001b[0;34m)\u001b[0m\u001b[0;34m\u001b[0m\u001b[0;34m\u001b[0m\u001b[0m\n\u001b[0m\u001b[1;32m    332\u001b[0m \u001b[0;34m\u001b[0m\u001b[0m\n\u001b[1;32m    333\u001b[0m         \u001b[0;31m# error: \"Callable[[VarArg(Any), KwArg(Any)], Any]\" has no\u001b[0m\u001b[0;34m\u001b[0m\u001b[0;34m\u001b[0m\u001b[0m\n",
            "\u001b[0;32m/usr/local/lib/python3.10/dist-packages/pandas/io/excel/_base.py\u001b[0m in \u001b[0;36mread_excel\u001b[0;34m(io, sheet_name, header, names, index_col, usecols, squeeze, dtype, engine, converters, true_values, false_values, skiprows, nrows, na_values, keep_default_na, na_filter, verbose, parse_dates, date_parser, thousands, decimal, comment, skipfooter, convert_float, mangle_dupe_cols, storage_options)\u001b[0m\n\u001b[1;32m    480\u001b[0m     \u001b[0;32mif\u001b[0m \u001b[0;32mnot\u001b[0m \u001b[0misinstance\u001b[0m\u001b[0;34m(\u001b[0m\u001b[0mio\u001b[0m\u001b[0;34m,\u001b[0m \u001b[0mExcelFile\u001b[0m\u001b[0;34m)\u001b[0m\u001b[0;34m:\u001b[0m\u001b[0;34m\u001b[0m\u001b[0;34m\u001b[0m\u001b[0m\n\u001b[1;32m    481\u001b[0m         \u001b[0mshould_close\u001b[0m \u001b[0;34m=\u001b[0m \u001b[0;32mTrue\u001b[0m\u001b[0;34m\u001b[0m\u001b[0;34m\u001b[0m\u001b[0m\n\u001b[0;32m--> 482\u001b[0;31m         \u001b[0mio\u001b[0m \u001b[0;34m=\u001b[0m \u001b[0mExcelFile\u001b[0m\u001b[0;34m(\u001b[0m\u001b[0mio\u001b[0m\u001b[0;34m,\u001b[0m \u001b[0mstorage_options\u001b[0m\u001b[0;34m=\u001b[0m\u001b[0mstorage_options\u001b[0m\u001b[0;34m,\u001b[0m \u001b[0mengine\u001b[0m\u001b[0;34m=\u001b[0m\u001b[0mengine\u001b[0m\u001b[0;34m)\u001b[0m\u001b[0;34m\u001b[0m\u001b[0;34m\u001b[0m\u001b[0m\n\u001b[0m\u001b[1;32m    483\u001b[0m     \u001b[0;32melif\u001b[0m \u001b[0mengine\u001b[0m \u001b[0;32mand\u001b[0m \u001b[0mengine\u001b[0m \u001b[0;34m!=\u001b[0m \u001b[0mio\u001b[0m\u001b[0;34m.\u001b[0m\u001b[0mengine\u001b[0m\u001b[0;34m:\u001b[0m\u001b[0;34m\u001b[0m\u001b[0;34m\u001b[0m\u001b[0m\n\u001b[1;32m    484\u001b[0m         raise ValueError(\n",
            "\u001b[0;32m/usr/local/lib/python3.10/dist-packages/pandas/io/excel/_base.py\u001b[0m in \u001b[0;36m__init__\u001b[0;34m(self, path_or_buffer, engine, storage_options)\u001b[0m\n\u001b[1;32m   1650\u001b[0m                 \u001b[0mext\u001b[0m \u001b[0;34m=\u001b[0m \u001b[0;34m\"xls\"\u001b[0m\u001b[0;34m\u001b[0m\u001b[0;34m\u001b[0m\u001b[0m\n\u001b[1;32m   1651\u001b[0m             \u001b[0;32melse\u001b[0m\u001b[0;34m:\u001b[0m\u001b[0;34m\u001b[0m\u001b[0;34m\u001b[0m\u001b[0m\n\u001b[0;32m-> 1652\u001b[0;31m                 ext = inspect_excel_format(\n\u001b[0m\u001b[1;32m   1653\u001b[0m                     \u001b[0mcontent_or_path\u001b[0m\u001b[0;34m=\u001b[0m\u001b[0mpath_or_buffer\u001b[0m\u001b[0;34m,\u001b[0m \u001b[0mstorage_options\u001b[0m\u001b[0;34m=\u001b[0m\u001b[0mstorage_options\u001b[0m\u001b[0;34m\u001b[0m\u001b[0;34m\u001b[0m\u001b[0m\n\u001b[1;32m   1654\u001b[0m                 )\n",
            "\u001b[0;32m/usr/local/lib/python3.10/dist-packages/pandas/io/excel/_base.py\u001b[0m in \u001b[0;36minspect_excel_format\u001b[0;34m(content_or_path, storage_options)\u001b[0m\n\u001b[1;32m   1523\u001b[0m         \u001b[0mcontent_or_path\u001b[0m \u001b[0;34m=\u001b[0m \u001b[0mBytesIO\u001b[0m\u001b[0;34m(\u001b[0m\u001b[0mcontent_or_path\u001b[0m\u001b[0;34m)\u001b[0m\u001b[0;34m\u001b[0m\u001b[0;34m\u001b[0m\u001b[0m\n\u001b[1;32m   1524\u001b[0m \u001b[0;34m\u001b[0m\u001b[0m\n\u001b[0;32m-> 1525\u001b[0;31m     with get_handle(\n\u001b[0m\u001b[1;32m   1526\u001b[0m         \u001b[0mcontent_or_path\u001b[0m\u001b[0;34m,\u001b[0m \u001b[0;34m\"rb\"\u001b[0m\u001b[0;34m,\u001b[0m \u001b[0mstorage_options\u001b[0m\u001b[0;34m=\u001b[0m\u001b[0mstorage_options\u001b[0m\u001b[0;34m,\u001b[0m \u001b[0mis_text\u001b[0m\u001b[0;34m=\u001b[0m\u001b[0;32mFalse\u001b[0m\u001b[0;34m\u001b[0m\u001b[0;34m\u001b[0m\u001b[0m\n\u001b[1;32m   1527\u001b[0m     ) as handle:\n",
            "\u001b[0;32m/usr/local/lib/python3.10/dist-packages/pandas/io/common.py\u001b[0m in \u001b[0;36mget_handle\u001b[0;34m(path_or_buf, mode, encoding, compression, memory_map, is_text, errors, storage_options)\u001b[0m\n\u001b[1;32m    863\u001b[0m         \u001b[0;32melse\u001b[0m\u001b[0;34m:\u001b[0m\u001b[0;34m\u001b[0m\u001b[0;34m\u001b[0m\u001b[0m\n\u001b[1;32m    864\u001b[0m             \u001b[0;31m# Binary mode\u001b[0m\u001b[0;34m\u001b[0m\u001b[0;34m\u001b[0m\u001b[0m\n\u001b[0;32m--> 865\u001b[0;31m             \u001b[0mhandle\u001b[0m \u001b[0;34m=\u001b[0m \u001b[0mopen\u001b[0m\u001b[0;34m(\u001b[0m\u001b[0mhandle\u001b[0m\u001b[0;34m,\u001b[0m \u001b[0mioargs\u001b[0m\u001b[0;34m.\u001b[0m\u001b[0mmode\u001b[0m\u001b[0;34m)\u001b[0m\u001b[0;34m\u001b[0m\u001b[0;34m\u001b[0m\u001b[0m\n\u001b[0m\u001b[1;32m    866\u001b[0m         \u001b[0mhandles\u001b[0m\u001b[0;34m.\u001b[0m\u001b[0mappend\u001b[0m\u001b[0;34m(\u001b[0m\u001b[0mhandle\u001b[0m\u001b[0;34m)\u001b[0m\u001b[0;34m\u001b[0m\u001b[0;34m\u001b[0m\u001b[0m\n\u001b[1;32m    867\u001b[0m \u001b[0;34m\u001b[0m\u001b[0m\n",
            "\u001b[0;31mFileNotFoundError\u001b[0m: [Errno 2] No such file or directory: 'wage.xlsx'"
          ]
        }
      ],
      "source": [
        "\n",
        "df = pd.read_excel('wage.xlsx')\n",
        "df['lwage'] = np.log(df['wage'])\n",
        "df = df[['lwage','male']]\n",
        "df"
      ]
    },
    {
      "cell_type": "code",
      "execution_count": null,
      "id": "873fcfea-8939-4d95-825b-11491dea8e6a",
      "metadata": {
        "tags": [],
        "id": "873fcfea-8939-4d95-825b-11491dea8e6a",
        "outputId": "2e6051e5-6c95-43cc-921a-5b081d45f351"
      },
      "outputs": [
        {
          "name": "stdout",
          "output_type": "stream",
          "text": [
            "T: 2.36042302721787\n",
            "K hat: 7.3781207090510135\n",
            "C statistic: 0.9346380888883526\n",
            "Fail to reject H0: Var female = Var male\n"
          ]
        }
      ],
      "source": [
        "\n",
        "y_m = df[df['male'] == 1]['lwage']\n",
        "y_f = df[df['male'] == 0]['lwage']\n",
        "n_m = len(y_m)\n",
        "n_f = len(y_f)\n",
        "mean_m = np.mean(y_m)\n",
        "mean_f = np.mean(y_f)\n",
        "s_m = np.var(y_m)\n",
        "s_f = np.var(y_f)\n",
        "\n",
        "T = np.sqrt((n_m*n_f)/(n_m+n_f))*(np.log(s_f) - np.log(s_m))\n",
        "\n",
        "k_hat = ((n_m+n_f)*(np.sum((y_f-mean_f)**4) + np.sum((y_m-mean_m)**4)))/((np.sum((y_f-mean_f)**2) + np.sum((y_m-mean_m)**2))**2)\n",
        "\n",
        "c = T/np.sqrt(k_hat - 1)\n",
        "\n",
        "\n",
        "print(\"T:\", T)\n",
        "print(\"K hat:\", k_hat)\n",
        "print(\"C statistic:\", c)\n",
        "if (c > 1.64):\n",
        "    print('Reject H0: Var female > Var male')\n",
        "else:\n",
        "    print('Fail to reject H0: Var female = Var male')"
      ]
    },
    {
      "cell_type": "code",
      "execution_count": null,
      "id": "d2464116-d892-4f13-9ef6-dfc54b160cdc",
      "metadata": {
        "tags": [],
        "id": "d2464116-d892-4f13-9ef6-dfc54b160cdc",
        "outputId": "4ccf9cec-6a54-4583-ad2f-051552d48d2a"
      },
      "outputs": [
        {
          "name": "stdout",
          "output_type": "stream",
          "text": [
            "F-statistic: 1.0858707722186254\n",
            "p-value: 0.04734658854082252\n",
            "Reject H0: Var female > Var male\n"
          ]
        }
      ],
      "source": [
        "var_f = np.var(y_f, ddof=1)\n",
        "var_m = np.var(y_m, ddof=1)\n",
        "\n",
        "f_value = var_f / var_m\n",
        "\n",
        "df_f = n_f - 1\n",
        "df_m = n_m - 1\n",
        "\n",
        "p_value = 1 - stats.f.cdf(f_value, df_f, df_m)\n",
        "\n",
        "print(\"F-statistic:\", f_value)\n",
        "print(\"p-value:\", p_value)\n",
        "if (p_value<0.05):\n",
        "    print('Reject H0: Var female > Var male')\n",
        "else:\n",
        "    print('Fail to reject H0: Var female = Var male')"
      ]
    },
    {
      "cell_type": "markdown",
      "id": "c88f97e4-b0c9-4251-9bde-4ec0bca471a0",
      "metadata": {
        "id": "c88f97e4-b0c9-4251-9bde-4ec0bca471a0"
      },
      "source": []
    },
    {
      "cell_type": "markdown",
      "id": "50cc27e3-e561-420c-87c6-800f2eb07cae",
      "metadata": {
        "id": "50cc27e3-e561-420c-87c6-800f2eb07cae"
      },
      "source": [
        "## Question 3\n",
        "#### letter c)\n"
      ]
    },
    {
      "cell_type": "code",
      "execution_count": 9,
      "id": "1ada1156-6979-475d-a9c2-a9d337bdda9d",
      "metadata": {
        "tags": [],
        "colab": {
          "base_uri": "https://localhost:8080/"
        },
        "id": "1ada1156-6979-475d-a9c2-a9d337bdda9d",
        "outputId": "b47e68b8-4bd8-4458-f722-0bfec254ab38"
      },
      "outputs": [
        {
          "output_type": "stream",
          "name": "stdout",
          "text": [
            "Variance when n > p:  [ 0.5    0.765  1.143  1.727  2.75   5.    14.   ]\n",
            "Variance when n < p:  [30.     7.5    4.286  3.     2.308  1.875  1.579  1.364  1.2    1.071\n",
            "  0.968  0.882  0.811  0.75 ]\n",
            "Bias:  [0.032 0.118 0.189 0.25  0.302 0.348 0.388 0.423 0.455 0.483 0.508 0.531\n",
            " 0.552 0.571]\n"
          ]
        }
      ],
      "source": [
        "n = 300\n",
        "p =[]\n",
        "for j in range(21):\n",
        "    p.append(100 + 30*j)\n",
        "\n",
        "v_n_greater = []\n",
        "v_n_smaller = []\n",
        "b = []\n",
        "aux_v_n_greater = []\n",
        "aux_v_n_smaller = []\n",
        "for i in p:\n",
        "    if i < n:\n",
        "        v_n_greater.append(i/(n-i))\n",
        "        aux_v_n_greater.append(i)\n",
        "\n",
        "    if i > n:\n",
        "        v_n_smaller.append(n/(i-n))\n",
        "        b.append((i-n)/i)\n",
        "        aux_v_n_smaller.append(i)\n",
        "\n",
        "print('Variance when n > p: ', np.round(v_n_greater,3))\n",
        "print('Variance when n < p: ', np.round(v_n_smaller,3))\n",
        "print('Bias: ',np.round(b,3))"
      ]
    },
    {
      "cell_type": "code",
      "execution_count": 6,
      "id": "c3f1928f-bef2-4dc1-a49f-17a01d9d5b0f",
      "metadata": {
        "tags": [],
        "colab": {
          "base_uri": "https://localhost:8080/",
          "height": 430
        },
        "id": "c3f1928f-bef2-4dc1-a49f-17a01d9d5b0f",
        "outputId": "5971eb31-9f37-4bb4-e142-a883abe247ec"
      },
      "outputs": [
        {
          "output_type": "display_data",
          "data": {
            "text/plain": [
              "<Figure size 640x480 with 1 Axes>"
            ],
            "image/png": "[encoded data removed]"
          },
          "metadata": {}
        }
      ],
      "source": [
        "plt.plot(aux_v_n_greater, v_n_greater, label='variance')\n",
        "plt.legend()\n",
        "plt.show()"
      ]
    },
    {
      "cell_type": "code",
      "execution_count": 7,
      "id": "6c694e37-b441-4faf-9c8e-c1210cbabd4a",
      "metadata": {
        "tags": [],
        "colab": {
          "base_uri": "https://localhost:8080/",
          "height": 430
        },
        "id": "6c694e37-b441-4faf-9c8e-c1210cbabd4a",
        "outputId": "43dfe5d3-597f-4408-a839-eb887083fc15"
      },
      "outputs": [
        {
          "output_type": "display_data",
          "data": {
            "text/plain": [
              "<Figure size 640x480 with 1 Axes>"
            ],
            "image/png": "[encoded data removed]"
          },
          "metadata": {}
        }
      ],
      "source": [
        "plt.plot(aux_v_n_smaller, v_n_smaller, label='variance')\n",
        "plt.plot(aux_v_n_smaller, b, label='Bias')\n",
        "plt.legend()\n",
        "plt.show()"
      ]
    },
    {
      "cell_type": "code",
      "execution_count": null,
      "id": "88c2244e-b0d4-439f-abd5-703e78417195",
      "metadata": {
        "id": "88c2244e-b0d4-439f-abd5-703e78417195"
      },
      "outputs": [],
      "source": []
    },
    {
      "cell_type": "markdown",
      "source": [
        "## Question 5\n",
        "#### letter c)\n"
      ],
      "metadata": {
        "id": "h5t0OjhVlME1"
      },
      "id": "h5t0OjhVlME1"
    },
    {
      "cell_type": "code",
      "execution_count": null,
      "metadata": {
        "id": "bf0d4f71"
      },
      "outputs": [],
      "source": [
        "import numpy as np\n",
        "import matplotlib.pyplot as plt\n",
        "import statsmodels.api as sm\n",
        "import pandas as pd"
      ],
      "id": "bf0d4f71"
    },
    {
      "cell_type": "code",
      "execution_count": null,
      "metadata": {
        "id": "051a31fc"
      },
      "outputs": [],
      "source": [
        "rho1=0\n",
        "rho2=0.5\n",
        "rho3=0.95\n",
        "y1 = np.empty(100)\n",
        "y2 = np.empty(100)\n",
        "y3 = np.empty(100)\n",
        "B = np.zeros(100)\n",
        "eps = np.random.normal(0, 1, 100)\n",
        "\n",
        "y1[0] = 0\n",
        "y2[0] = 0\n",
        "y3[0] = 0\n",
        "for t in range(1, 100):\n",
        "    y1[t] = rho1 * y1[t-1] + eps[t]\n",
        "    y2[t] = rho2 * y2[t-1] + eps[t]\n",
        "    y3[t] = rho3 * y3[t-1] + eps[t]\n",
        "x=np.arange(1, 101, 1, dtype=int)"
      ],
      "id": "051a31fc"
    },
    {
      "cell_type": "code",
      "execution_count": null,
      "metadata": {
        "colab": {
          "base_uri": "https://localhost:8080/",
          "height": 449
        },
        "id": "1e8a906b",
        "outputId": "740c18b3-f998-408c-f4b6-14140a6d791f"
      },
      "outputs": [
        {
          "output_type": "display_data",
          "data": {
            "text/plain": [
              "<Figure size 640x480 with 1 Axes>"
            ],
            "image/png": "[encoded data removed]"
          },
          "metadata": {}
        }
      ],
      "source": [
        "plt.plot(x, y1, color =\"red\",label=\"rho=0\")\n",
        "plt.plot(x, y2, color =\"blue\",label=\"rho=0.5\")\n",
        "plt.plot(x, y3, color =\"black\",label=\"rho=0.95\")\n",
        "plt.legend()\n",
        "plt.xlabel(\"time\")\n",
        "plt.ylabel(\"y(t)\")\n",
        "plt.show()"
      ],
      "id": "1e8a906b"
    },
    {
      "cell_type": "markdown",
      "metadata": {
        "id": "2daa8e2d"
      },
      "source": [
        "OLS estimations"
      ],
      "id": "2daa8e2d"
    },
    {
      "cell_type": "code",
      "execution_count": null,
      "metadata": {
        "colab": {
          "base_uri": "https://localhost:8080/",
          "height": 448
        },
        "id": "7c8a7d8e",
        "outputId": "da4af630-d103-461b-a625-8ba2904d8f63"
      },
      "outputs": [
        {
          "output_type": "execute_result",
          "data": {
            "text/plain": [
              "<class 'statsmodels.iolib.summary.Summary'>\n",
              "\"\"\"\n",
              "                                 OLS Regression Results                                \n",
              "=======================================================================================\n",
              "Dep. Variable:                      y   R-squared (uncentered):                   0.000\n",
              "Model:                            OLS   Adj. R-squared (uncentered):             -0.010\n",
              "Method:                 Least Squares   F-statistic:                            0.02398\n",
              "Date:                Wed, 01 Nov 2023   Prob (F-statistic):                       0.877\n",
              "Time:                        19:16:34   Log-Likelihood:                         -150.09\n",
              "No. Observations:                 100   AIC:                                      302.2\n",
              "Df Residuals:                      99   BIC:                                      304.8\n",
              "Df Model:                           1                                                  \n",
              "Covariance Type:            nonrobust                                                  \n",
              "==============================================================================\n",
              "                 coef    std err          t      P>|t|      [0.025      0.975]\n",
              "------------------------------------------------------------------------------\n",
              "x1             0.0003      0.002      0.155      0.877      -0.003       0.004\n",
              "==============================================================================\n",
              "Omnibus:                        0.728   Durbin-Watson:                   1.800\n",
              "Prob(Omnibus):                  0.695   Jarque-Bera (JB):                0.518\n",
              "Skew:                           0.175   Prob(JB):                        0.772\n",
              "Kurtosis:                       3.033   Cond. No.                         1.00\n",
              "==============================================================================\n",
              "\n",
              "Notes:\n",
              "[1] R² is computed without centering (uncentered) since the model does not contain a constant.\n",
              "[2] Standard Errors assume that the covariance matrix of the errors is correctly specified.\n",
              "\"\"\""
            ],
            "text/html": [
              "<table class=\"simpletable\">\n",
              "<caption>OLS Regression Results</caption>\n",
              "<tr>\n",
              "  <th>Dep. Variable:</th>            <td>y</td>        <th>  R-squared (uncentered):</th>      <td>   0.000</td>\n",
              "</tr>\n",
              "<tr>\n",
              "  <th>Model:</th>                   <td>OLS</td>       <th>  Adj. R-squared (uncentered):</th> <td>  -0.010</td>\n",
              "</tr>\n",
              "<tr>\n",
              "  <th>Method:</th>             <td>Least Squares</td>  <th>  F-statistic:       </th>          <td> 0.02398</td>\n",
              "</tr>\n",
              "<tr>\n",
              "  <th>Date:</th>             <td>Wed, 01 Nov 2023</td> <th>  Prob (F-statistic):</th>           <td> 0.877</td> \n",
              "</tr>\n",
              "<tr>\n",
              "  <th>Time:</th>                 <td>19:16:34</td>     <th>  Log-Likelihood:    </th>          <td> -150.09</td>\n",
              "</tr>\n",
              "<tr>\n",
              "  <th>No. Observations:</th>      <td>   100</td>      <th>  AIC:               </th>          <td>   302.2</td>\n",
              "</tr>\n",
              "<tr>\n",
              "  <th>Df Residuals:</th>          <td>    99</td>      <th>  BIC:               </th>          <td>   304.8</td>\n",
              "</tr>\n",
              "<tr>\n",
              "  <th>Df Model:</th>              <td>     1</td>      <th>                     </th>              <td> </td>   \n",
              "</tr>\n",
              "<tr>\n",
              "  <th>Covariance Type:</th>      <td>nonrobust</td>    <th>                     </th>              <td> </td>   \n",
              "</tr>\n",
              "</table>\n",
              "<table class=\"simpletable\">\n",
              "<tr>\n",
              "   <td></td>     <th>coef</th>     <th>std err</th>      <th>t</th>      <th>P>|t|</th>  <th>[0.025</th>    <th>0.975]</th>  \n",
              "</tr>\n",
              "<tr>\n",
              "  <th>x1</th> <td>    0.0003</td> <td>    0.002</td> <td>    0.155</td> <td> 0.877</td> <td>   -0.003</td> <td>    0.004</td>\n",
              "</tr>\n",
              "</table>\n",
              "<table class=\"simpletable\">\n",
              "<tr>\n",
              "  <th>Omnibus:</th>       <td> 0.728</td> <th>  Durbin-Watson:     </th> <td>   1.800</td>\n",
              "</tr>\n",
              "<tr>\n",
              "  <th>Prob(Omnibus):</th> <td> 0.695</td> <th>  Jarque-Bera (JB):  </th> <td>   0.518</td>\n",
              "</tr>\n",
              "<tr>\n",
              "  <th>Skew:</th>          <td> 0.175</td> <th>  Prob(JB):          </th> <td>   0.772</td>\n",
              "</tr>\n",
              "<tr>\n",
              "  <th>Kurtosis:</th>      <td> 3.033</td> <th>  Cond. No.          </th> <td>    1.00</td>\n",
              "</tr>\n",
              "</table><br/><br/>Notes:<br/>[1] R² is computed without centering (uncentered) since the model does not contain a constant.<br/>[2] Standard Errors assume that the covariance matrix of the errors is correctly specified."
            ],
            "text/latex": "\\begin{center}\n\\begin{tabular}{lclc}\n\\toprule\n\\textbf{Dep. Variable:}    &        y         & \\textbf{  R-squared (uncentered):}      &     0.000   \\\\\n\\textbf{Model:}            &       OLS        & \\textbf{  Adj. R-squared (uncentered):} &    -0.010   \\\\\n\\textbf{Method:}           &  Least Squares   & \\textbf{  F-statistic:       }          &   0.02398   \\\\\n\\textbf{Date:}             & Wed, 01 Nov 2023 & \\textbf{  Prob (F-statistic):}          &    0.877    \\\\\n\\textbf{Time:}             &     19:16:34     & \\textbf{  Log-Likelihood:    }          &   -150.09   \\\\\n\\textbf{No. Observations:} &         100      & \\textbf{  AIC:               }          &     302.2   \\\\\n\\textbf{Df Residuals:}     &          99      & \\textbf{  BIC:               }          &     304.8   \\\\\n\\textbf{Df Model:}         &           1      & \\textbf{                     }          &             \\\\\n\\textbf{Covariance Type:}  &    nonrobust     & \\textbf{                     }          &             \\\\\n\\bottomrule\n\\end{tabular}\n\\begin{tabular}{lcccccc}\n            & \\textbf{coef} & \\textbf{std err} & \\textbf{t} & \\textbf{P$> |$t$|$} & \\textbf{[0.025} & \\textbf{0.975]}  \\\\\n\\midrule\n\\textbf{x1} &       0.0003  &        0.002     &     0.155  &         0.877        &       -0.003    &        0.004     \\\\\n\\bottomrule\n\\end{tabular}\n\\begin{tabular}{lclc}\n\\textbf{Omnibus:}       &  0.728 & \\textbf{  Durbin-Watson:     } &    1.800  \\\\\n\\textbf{Prob(Omnibus):} &  0.695 & \\textbf{  Jarque-Bera (JB):  } &    0.518  \\\\\n\\textbf{Skew:}          &  0.175 & \\textbf{  Prob(JB):          } &    0.772  \\\\\n\\textbf{Kurtosis:}      &  3.033 & \\textbf{  Cond. No.          } &     1.00  \\\\\n\\bottomrule\n\\end{tabular}\n%\\caption{OLS Regression Results}\n\\end{center}\n\nNotes: \\newline\n [1] R² is computed without centering (uncentered) since the model does not contain a constant. \\newline\n [2] Standard Errors assume that the covariance matrix of the errors is correctly specified."
          },
          "metadata": {},
          "execution_count": 28
        }
      ],
      "source": [
        "ols_y1 = sm.regression.linear_model.OLS(y1, x).fit()\n",
        "ols_y1.summary()"
      ],
      "id": "7c8a7d8e"
    },
    {
      "cell_type": "code",
      "execution_count": null,
      "metadata": {
        "colab": {
          "base_uri": "https://localhost:8080/"
        },
        "id": "189da003",
        "outputId": "c7f08019-9d9c-473c-f8d4-aca5dada01c4"
      },
      "outputs": [
        {
          "output_type": "stream",
          "name": "stdout",
          "text": [
            "The OLS estimator is: 0.00029044696498583595, and its t-stat is: 0.15486618566987903\n"
          ]
        }
      ],
      "source": [
        "print(f\"The OLS estimator is: {ols_y1.params[0]}, and its t-stat is: {ols_y1.tvalues[0]}\")"
      ],
      "id": "189da003"
    },
    {
      "cell_type": "code",
      "execution_count": null,
      "metadata": {
        "colab": {
          "base_uri": "https://localhost:8080/",
          "height": 448
        },
        "id": "ce29d398",
        "outputId": "4ce550f4-7c6d-47d1-a9f1-bf557ec5e8bb"
      },
      "outputs": [
        {
          "output_type": "execute_result",
          "data": {
            "text/plain": [
              "<class 'statsmodels.iolib.summary.Summary'>\n",
              "\"\"\"\n",
              "                                 OLS Regression Results                                \n",
              "=======================================================================================\n",
              "Dep. Variable:                      y   R-squared (uncentered):                   0.002\n",
              "Model:                            OLS   Adj. R-squared (uncentered):             -0.008\n",
              "Method:                 Least Squares   F-statistic:                             0.2026\n",
              "Date:                Wed, 01 Nov 2023   Prob (F-statistic):                       0.654\n",
              "Time:                        19:16:36   Log-Likelihood:                         -168.67\n",
              "No. Observations:                 100   AIC:                                      339.3\n",
              "Df Residuals:                      99   BIC:                                      342.0\n",
              "Df Model:                           1                                                  \n",
              "Covariance Type:            nonrobust                                                  \n",
              "==============================================================================\n",
              "                 coef    std err          t      P>|t|      [0.025      0.975]\n",
              "------------------------------------------------------------------------------\n",
              "x1             0.0010      0.002      0.450      0.654      -0.003       0.005\n",
              "==============================================================================\n",
              "Omnibus:                        0.882   Durbin-Watson:                   0.874\n",
              "Prob(Omnibus):                  0.643   Jarque-Bera (JB):                0.996\n",
              "Skew:                           0.186   Prob(JB):                        0.608\n",
              "Kurtosis:                       2.684   Cond. No.                         1.00\n",
              "==============================================================================\n",
              "\n",
              "Notes:\n",
              "[1] R² is computed without centering (uncentered) since the model does not contain a constant.\n",
              "[2] Standard Errors assume that the covariance matrix of the errors is correctly specified.\n",
              "\"\"\""
            ],
            "text/html": [
              "<table class=\"simpletable\">\n",
              "<caption>OLS Regression Results</caption>\n",
              "<tr>\n",
              "  <th>Dep. Variable:</th>            <td>y</td>        <th>  R-squared (uncentered):</th>      <td>   0.002</td>\n",
              "</tr>\n",
              "<tr>\n",
              "  <th>Model:</th>                   <td>OLS</td>       <th>  Adj. R-squared (uncentered):</th> <td>  -0.008</td>\n",
              "</tr>\n",
              "<tr>\n",
              "  <th>Method:</th>             <td>Least Squares</td>  <th>  F-statistic:       </th>          <td>  0.2026</td>\n",
              "</tr>\n",
              "<tr>\n",
              "  <th>Date:</th>             <td>Wed, 01 Nov 2023</td> <th>  Prob (F-statistic):</th>           <td> 0.654</td> \n",
              "</tr>\n",
              "<tr>\n",
              "  <th>Time:</th>                 <td>19:16:36</td>     <th>  Log-Likelihood:    </th>          <td> -168.67</td>\n",
              "</tr>\n",
              "<tr>\n",
              "  <th>No. Observations:</th>      <td>   100</td>      <th>  AIC:               </th>          <td>   339.3</td>\n",
              "</tr>\n",
              "<tr>\n",
              "  <th>Df Residuals:</th>          <td>    99</td>      <th>  BIC:               </th>          <td>   342.0</td>\n",
              "</tr>\n",
              "<tr>\n",
              "  <th>Df Model:</th>              <td>     1</td>      <th>                     </th>              <td> </td>   \n",
              "</tr>\n",
              "<tr>\n",
              "  <th>Covariance Type:</th>      <td>nonrobust</td>    <th>                     </th>              <td> </td>   \n",
              "</tr>\n",
              "</table>\n",
              "<table class=\"simpletable\">\n",
              "<tr>\n",
              "   <td></td>     <th>coef</th>     <th>std err</th>      <th>t</th>      <th>P>|t|</th>  <th>[0.025</th>    <th>0.975]</th>  \n",
              "</tr>\n",
              "<tr>\n",
              "  <th>x1</th> <td>    0.0010</td> <td>    0.002</td> <td>    0.450</td> <td> 0.654</td> <td>   -0.003</td> <td>    0.005</td>\n",
              "</tr>\n",
              "</table>\n",
              "<table class=\"simpletable\">\n",
              "<tr>\n",
              "  <th>Omnibus:</th>       <td> 0.882</td> <th>  Durbin-Watson:     </th> <td>   0.874</td>\n",
              "</tr>\n",
              "<tr>\n",
              "  <th>Prob(Omnibus):</th> <td> 0.643</td> <th>  Jarque-Bera (JB):  </th> <td>   0.996</td>\n",
              "</tr>\n",
              "<tr>\n",
              "  <th>Skew:</th>          <td> 0.186</td> <th>  Prob(JB):          </th> <td>   0.608</td>\n",
              "</tr>\n",
              "<tr>\n",
              "  <th>Kurtosis:</th>      <td> 2.684</td> <th>  Cond. No.          </th> <td>    1.00</td>\n",
              "</tr>\n",
              "</table><br/><br/>Notes:<br/>[1] R² is computed without centering (uncentered) since the model does not contain a constant.<br/>[2] Standard Errors assume that the covariance matrix of the errors is correctly specified."
            ],
            "text/latex": "\\begin{center}\n\\begin{tabular}{lclc}\n\\toprule\n\\textbf{Dep. Variable:}    &        y         & \\textbf{  R-squared (uncentered):}      &     0.002   \\\\\n\\textbf{Model:}            &       OLS        & \\textbf{  Adj. R-squared (uncentered):} &    -0.008   \\\\\n\\textbf{Method:}           &  Least Squares   & \\textbf{  F-statistic:       }          &    0.2026   \\\\\n\\textbf{Date:}             & Wed, 01 Nov 2023 & \\textbf{  Prob (F-statistic):}          &    0.654    \\\\\n\\textbf{Time:}             &     19:16:36     & \\textbf{  Log-Likelihood:    }          &   -168.67   \\\\\n\\textbf{No. Observations:} &         100      & \\textbf{  AIC:               }          &     339.3   \\\\\n\\textbf{Df Residuals:}     &          99      & \\textbf{  BIC:               }          &     342.0   \\\\\n\\textbf{Df Model:}         &           1      & \\textbf{                     }          &             \\\\\n\\textbf{Covariance Type:}  &    nonrobust     & \\textbf{                     }          &             \\\\\n\\bottomrule\n\\end{tabular}\n\\begin{tabular}{lcccccc}\n            & \\textbf{coef} & \\textbf{std err} & \\textbf{t} & \\textbf{P$> |$t$|$} & \\textbf{[0.025} & \\textbf{0.975]}  \\\\\n\\midrule\n\\textbf{x1} &       0.0010  &        0.002     &     0.450  &         0.654        &       -0.003    &        0.005     \\\\\n\\bottomrule\n\\end{tabular}\n\\begin{tabular}{lclc}\n\\textbf{Omnibus:}       &  0.882 & \\textbf{  Durbin-Watson:     } &    0.874  \\\\\n\\textbf{Prob(Omnibus):} &  0.643 & \\textbf{  Jarque-Bera (JB):  } &    0.996  \\\\\n\\textbf{Skew:}          &  0.186 & \\textbf{  Prob(JB):          } &    0.608  \\\\\n\\textbf{Kurtosis:}      &  2.684 & \\textbf{  Cond. No.          } &     1.00  \\\\\n\\bottomrule\n\\end{tabular}\n%\\caption{OLS Regression Results}\n\\end{center}\n\nNotes: \\newline\n [1] R² is computed without centering (uncentered) since the model does not contain a constant. \\newline\n [2] Standard Errors assume that the covariance matrix of the errors is correctly specified."
          },
          "metadata": {},
          "execution_count": 30
        }
      ],
      "source": [
        "ols_y2 = sm.regression.linear_model.OLS(y2, x).fit()\n",
        "ols_y2.summary()"
      ],
      "id": "ce29d398"
    },
    {
      "cell_type": "code",
      "execution_count": null,
      "metadata": {
        "colab": {
          "base_uri": "https://localhost:8080/"
        },
        "id": "6ce9a604",
        "outputId": "8718c8f0-5c94-4004-ba48-899ca70f4051"
      },
      "outputs": [
        {
          "output_type": "stream",
          "name": "stdout",
          "text": [
            "The OLS estimator is: 0.0010164325308129741, and its t-stat is: 0.45006572511200915\n"
          ]
        }
      ],
      "source": [
        "print(f\"The OLS estimator is: {ols_y2.params[0]}, and its t-stat is: {ols_y2.tvalues[0]}\")"
      ],
      "id": "6ce9a604"
    },
    {
      "cell_type": "code",
      "execution_count": null,
      "metadata": {
        "colab": {
          "base_uri": "https://localhost:8080/",
          "height": 448
        },
        "id": "0c583c93",
        "outputId": "7a9a09e8-f1b7-410b-b1a9-37d5bffd8ac8"
      },
      "outputs": [
        {
          "output_type": "execute_result",
          "data": {
            "text/plain": [
              "<class 'statsmodels.iolib.summary.Summary'>\n",
              "\"\"\"\n",
              "                                 OLS Regression Results                                \n",
              "=======================================================================================\n",
              "Dep. Variable:                      y   R-squared (uncentered):                   0.296\n",
              "Model:                            OLS   Adj. R-squared (uncentered):              0.289\n",
              "Method:                 Least Squares   F-statistic:                              41.59\n",
              "Date:                Wed, 01 Nov 2023   Prob (F-statistic):                    4.15e-09\n",
              "Time:                        19:16:37   Log-Likelihood:                         -260.79\n",
              "No. Observations:                 100   AIC:                                      523.6\n",
              "Df Residuals:                      99   BIC:                                      526.2\n",
              "Df Model:                           1                                                  \n",
              "Covariance Type:            nonrobust                                                  \n",
              "==============================================================================\n",
              "                 coef    std err          t      P>|t|      [0.025      0.975]\n",
              "------------------------------------------------------------------------------\n",
              "x1             0.0366      0.006      6.449      0.000       0.025       0.048\n",
              "==============================================================================\n",
              "Omnibus:                        2.641   Durbin-Watson:                   0.111\n",
              "Prob(Omnibus):                  0.267   Jarque-Bera (JB):                2.595\n",
              "Skew:                           0.384   Prob(JB):                        0.273\n",
              "Kurtosis:                       2.815   Cond. No.                         1.00\n",
              "==============================================================================\n",
              "\n",
              "Notes:\n",
              "[1] R² is computed without centering (uncentered) since the model does not contain a constant.\n",
              "[2] Standard Errors assume that the covariance matrix of the errors is correctly specified.\n",
              "\"\"\""
            ],
            "text/html": [
              "<table class=\"simpletable\">\n",
              "<caption>OLS Regression Results</caption>\n",
              "<tr>\n",
              "  <th>Dep. Variable:</th>            <td>y</td>        <th>  R-squared (uncentered):</th>      <td>   0.296</td>\n",
              "</tr>\n",
              "<tr>\n",
              "  <th>Model:</th>                   <td>OLS</td>       <th>  Adj. R-squared (uncentered):</th> <td>   0.289</td>\n",
              "</tr>\n",
              "<tr>\n",
              "  <th>Method:</th>             <td>Least Squares</td>  <th>  F-statistic:       </th>          <td>   41.59</td>\n",
              "</tr>\n",
              "<tr>\n",
              "  <th>Date:</th>             <td>Wed, 01 Nov 2023</td> <th>  Prob (F-statistic):</th>          <td>4.15e-09</td>\n",
              "</tr>\n",
              "<tr>\n",
              "  <th>Time:</th>                 <td>19:16:37</td>     <th>  Log-Likelihood:    </th>          <td> -260.79</td>\n",
              "</tr>\n",
              "<tr>\n",
              "  <th>No. Observations:</th>      <td>   100</td>      <th>  AIC:               </th>          <td>   523.6</td>\n",
              "</tr>\n",
              "<tr>\n",
              "  <th>Df Residuals:</th>          <td>    99</td>      <th>  BIC:               </th>          <td>   526.2</td>\n",
              "</tr>\n",
              "<tr>\n",
              "  <th>Df Model:</th>              <td>     1</td>      <th>                     </th>              <td> </td>   \n",
              "</tr>\n",
              "<tr>\n",
              "  <th>Covariance Type:</th>      <td>nonrobust</td>    <th>                     </th>              <td> </td>   \n",
              "</tr>\n",
              "</table>\n",
              "<table class=\"simpletable\">\n",
              "<tr>\n",
              "   <td></td>     <th>coef</th>     <th>std err</th>      <th>t</th>      <th>P>|t|</th>  <th>[0.025</th>    <th>0.975]</th>  \n",
              "</tr>\n",
              "<tr>\n",
              "  <th>x1</th> <td>    0.0366</td> <td>    0.006</td> <td>    6.449</td> <td> 0.000</td> <td>    0.025</td> <td>    0.048</td>\n",
              "</tr>\n",
              "</table>\n",
              "<table class=\"simpletable\">\n",
              "<tr>\n",
              "  <th>Omnibus:</th>       <td> 2.641</td> <th>  Durbin-Watson:     </th> <td>   0.111</td>\n",
              "</tr>\n",
              "<tr>\n",
              "  <th>Prob(Omnibus):</th> <td> 0.267</td> <th>  Jarque-Bera (JB):  </th> <td>   2.595</td>\n",
              "</tr>\n",
              "<tr>\n",
              "  <th>Skew:</th>          <td> 0.384</td> <th>  Prob(JB):          </th> <td>   0.273</td>\n",
              "</tr>\n",
              "<tr>\n",
              "  <th>Kurtosis:</th>      <td> 2.815</td> <th>  Cond. No.          </th> <td>    1.00</td>\n",
              "</tr>\n",
              "</table><br/><br/>Notes:<br/>[1] R² is computed without centering (uncentered) since the model does not contain a constant.<br/>[2] Standard Errors assume that the covariance matrix of the errors is correctly specified."
            ],
            "text/latex": "\\begin{center}\n\\begin{tabular}{lclc}\n\\toprule\n\\textbf{Dep. Variable:}    &        y         & \\textbf{  R-squared (uncentered):}      &     0.296   \\\\\n\\textbf{Model:}            &       OLS        & \\textbf{  Adj. R-squared (uncentered):} &     0.289   \\\\\n\\textbf{Method:}           &  Least Squares   & \\textbf{  F-statistic:       }          &     41.59   \\\\\n\\textbf{Date:}             & Wed, 01 Nov 2023 & \\textbf{  Prob (F-statistic):}          &  4.15e-09   \\\\\n\\textbf{Time:}             &     19:16:37     & \\textbf{  Log-Likelihood:    }          &   -260.79   \\\\\n\\textbf{No. Observations:} &         100      & \\textbf{  AIC:               }          &     523.6   \\\\\n\\textbf{Df Residuals:}     &          99      & \\textbf{  BIC:               }          &     526.2   \\\\\n\\textbf{Df Model:}         &           1      & \\textbf{                     }          &             \\\\\n\\textbf{Covariance Type:}  &    nonrobust     & \\textbf{                     }          &             \\\\\n\\bottomrule\n\\end{tabular}\n\\begin{tabular}{lcccccc}\n            & \\textbf{coef} & \\textbf{std err} & \\textbf{t} & \\textbf{P$> |$t$|$} & \\textbf{[0.025} & \\textbf{0.975]}  \\\\\n\\midrule\n\\textbf{x1} &       0.0366  &        0.006     &     6.449  &         0.000        &        0.025    &        0.048     \\\\\n\\bottomrule\n\\end{tabular}\n\\begin{tabular}{lclc}\n\\textbf{Omnibus:}       &  2.641 & \\textbf{  Durbin-Watson:     } &    0.111  \\\\\n\\textbf{Prob(Omnibus):} &  0.267 & \\textbf{  Jarque-Bera (JB):  } &    2.595  \\\\\n\\textbf{Skew:}          &  0.384 & \\textbf{  Prob(JB):          } &    0.273  \\\\\n\\textbf{Kurtosis:}      &  2.815 & \\textbf{  Cond. No.          } &     1.00  \\\\\n\\bottomrule\n\\end{tabular}\n%\\caption{OLS Regression Results}\n\\end{center}\n\nNotes: \\newline\n [1] R² is computed without centering (uncentered) since the model does not contain a constant. \\newline\n [2] Standard Errors assume that the covariance matrix of the errors is correctly specified."
          },
          "metadata": {},
          "execution_count": 32
        }
      ],
      "source": [
        "ols_y3 = sm.regression.linear_model.OLS(y3, x).fit()\n",
        "ols_y3.summary()"
      ],
      "id": "0c583c93"
    },
    {
      "cell_type": "code",
      "execution_count": null,
      "metadata": {
        "colab": {
          "base_uri": "https://localhost:8080/"
        },
        "id": "f19e636c",
        "outputId": "6a637b8f-d2ef-414d-fec4-ec79cfc352d8"
      },
      "outputs": [
        {
          "output_type": "stream",
          "name": "stdout",
          "text": [
            "The OLS estimator is: 0.036587727074939916, and its t-stat is: 6.44894062073578\n"
          ]
        }
      ],
      "source": [
        "print(f\"The OLS estimator is: {ols_y3.params[0]}, and its t-stat is: {ols_y3.tvalues[0]}\")"
      ],
      "id": "f19e636c"
    },
    {
      "cell_type": "markdown",
      "metadata": {
        "id": "c6c819dd"
      },
      "source": [
        "### Estimate Newey-West standard errors"
      ],
      "id": "c6c819dd"
    },
    {
      "cell_type": "code",
      "execution_count": null,
      "metadata": {
        "colab": {
          "base_uri": "https://localhost:8080/",
          "height": 448
        },
        "id": "8a89e913",
        "outputId": "7b69c8b4-0707-40bf-ecda-7a8dfe313438"
      },
      "outputs": [
        {
          "output_type": "execute_result",
          "data": {
            "text/plain": [
              "<class 'statsmodels.iolib.summary.Summary'>\n",
              "\"\"\"\n",
              "                                 OLS Regression Results                                \n",
              "=======================================================================================\n",
              "Dep. Variable:                      y   R-squared (uncentered):                   0.000\n",
              "Model:                            OLS   Adj. R-squared (uncentered):             -0.010\n",
              "Method:                 Least Squares   F-statistic:                            0.02169\n",
              "Date:                Wed, 01 Nov 2023   Prob (F-statistic):                       0.883\n",
              "Time:                        19:16:39   Log-Likelihood:                         -150.09\n",
              "No. Observations:                 100   AIC:                                      302.2\n",
              "Df Residuals:                      99   BIC:                                      304.8\n",
              "Df Model:                           1                                                  \n",
              "Covariance Type:                  HAC                                                  \n",
              "==============================================================================\n",
              "                 coef    std err          z      P>|z|      [0.025      0.975]\n",
              "------------------------------------------------------------------------------\n",
              "x1             0.0003      0.002      0.147      0.883      -0.004       0.004\n",
              "==============================================================================\n",
              "Omnibus:                        0.728   Durbin-Watson:                   1.800\n",
              "Prob(Omnibus):                  0.695   Jarque-Bera (JB):                0.518\n",
              "Skew:                           0.175   Prob(JB):                        0.772\n",
              "Kurtosis:                       3.033   Cond. No.                         1.00\n",
              "==============================================================================\n",
              "\n",
              "Notes:\n",
              "[1] R² is computed without centering (uncentered) since the model does not contain a constant.\n",
              "[2] Standard Errors are heteroscedasticity and autocorrelation robust (HAC) using 4 lags and without small sample correction\n",
              "\"\"\""
            ],
            "text/html": [
              "<table class=\"simpletable\">\n",
              "<caption>OLS Regression Results</caption>\n",
              "<tr>\n",
              "  <th>Dep. Variable:</th>            <td>y</td>        <th>  R-squared (uncentered):</th>      <td>   0.000</td>\n",
              "</tr>\n",
              "<tr>\n",
              "  <th>Model:</th>                   <td>OLS</td>       <th>  Adj. R-squared (uncentered):</th> <td>  -0.010</td>\n",
              "</tr>\n",
              "<tr>\n",
              "  <th>Method:</th>             <td>Least Squares</td>  <th>  F-statistic:       </th>          <td> 0.02169</td>\n",
              "</tr>\n",
              "<tr>\n",
              "  <th>Date:</th>             <td>Wed, 01 Nov 2023</td> <th>  Prob (F-statistic):</th>           <td> 0.883</td> \n",
              "</tr>\n",
              "<tr>\n",
              "  <th>Time:</th>                 <td>19:16:39</td>     <th>  Log-Likelihood:    </th>          <td> -150.09</td>\n",
              "</tr>\n",
              "<tr>\n",
              "  <th>No. Observations:</th>      <td>   100</td>      <th>  AIC:               </th>          <td>   302.2</td>\n",
              "</tr>\n",
              "<tr>\n",
              "  <th>Df Residuals:</th>          <td>    99</td>      <th>  BIC:               </th>          <td>   304.8</td>\n",
              "</tr>\n",
              "<tr>\n",
              "  <th>Df Model:</th>              <td>     1</td>      <th>                     </th>              <td> </td>   \n",
              "</tr>\n",
              "<tr>\n",
              "  <th>Covariance Type:</th>         <td>HAC</td>       <th>                     </th>              <td> </td>   \n",
              "</tr>\n",
              "</table>\n",
              "<table class=\"simpletable\">\n",
              "<tr>\n",
              "   <td></td>     <th>coef</th>     <th>std err</th>      <th>z</th>      <th>P>|z|</th>  <th>[0.025</th>    <th>0.975]</th>  \n",
              "</tr>\n",
              "<tr>\n",
              "  <th>x1</th> <td>    0.0003</td> <td>    0.002</td> <td>    0.147</td> <td> 0.883</td> <td>   -0.004</td> <td>    0.004</td>\n",
              "</tr>\n",
              "</table>\n",
              "<table class=\"simpletable\">\n",
              "<tr>\n",
              "  <th>Omnibus:</th>       <td> 0.728</td> <th>  Durbin-Watson:     </th> <td>   1.800</td>\n",
              "</tr>\n",
              "<tr>\n",
              "  <th>Prob(Omnibus):</th> <td> 0.695</td> <th>  Jarque-Bera (JB):  </th> <td>   0.518</td>\n",
              "</tr>\n",
              "<tr>\n",
              "  <th>Skew:</th>          <td> 0.175</td> <th>  Prob(JB):          </th> <td>   0.772</td>\n",
              "</tr>\n",
              "<tr>\n",
              "  <th>Kurtosis:</th>      <td> 3.033</td> <th>  Cond. No.          </th> <td>    1.00</td>\n",
              "</tr>\n",
              "</table><br/><br/>Notes:<br/>[1] R² is computed without centering (uncentered) since the model does not contain a constant.<br/>[2] Standard Errors are heteroscedasticity and autocorrelation robust (HAC) using 4 lags and without small sample correction"
            ],
            "text/latex": "\\begin{center}\n\\begin{tabular}{lclc}\n\\toprule\n\\textbf{Dep. Variable:}    &        y         & \\textbf{  R-squared (uncentered):}      &     0.000   \\\\\n\\textbf{Model:}            &       OLS        & \\textbf{  Adj. R-squared (uncentered):} &    -0.010   \\\\\n\\textbf{Method:}           &  Least Squares   & \\textbf{  F-statistic:       }          &   0.02169   \\\\\n\\textbf{Date:}             & Wed, 01 Nov 2023 & \\textbf{  Prob (F-statistic):}          &    0.883    \\\\\n\\textbf{Time:}             &     19:16:39     & \\textbf{  Log-Likelihood:    }          &   -150.09   \\\\\n\\textbf{No. Observations:} &         100      & \\textbf{  AIC:               }          &     302.2   \\\\\n\\textbf{Df Residuals:}     &          99      & \\textbf{  BIC:               }          &     304.8   \\\\\n\\textbf{Df Model:}         &           1      & \\textbf{                     }          &             \\\\\n\\textbf{Covariance Type:}  &       HAC        & \\textbf{                     }          &             \\\\\n\\bottomrule\n\\end{tabular}\n\\begin{tabular}{lcccccc}\n            & \\textbf{coef} & \\textbf{std err} & \\textbf{z} & \\textbf{P$> |$z$|$} & \\textbf{[0.025} & \\textbf{0.975]}  \\\\\n\\midrule\n\\textbf{x1} &       0.0003  &        0.002     &     0.147  &         0.883        &       -0.004    &        0.004     \\\\\n\\bottomrule\n\\end{tabular}\n\\begin{tabular}{lclc}\n\\textbf{Omnibus:}       &  0.728 & \\textbf{  Durbin-Watson:     } &    1.800  \\\\\n\\textbf{Prob(Omnibus):} &  0.695 & \\textbf{  Jarque-Bera (JB):  } &    0.518  \\\\\n\\textbf{Skew:}          &  0.175 & \\textbf{  Prob(JB):          } &    0.772  \\\\\n\\textbf{Kurtosis:}      &  3.033 & \\textbf{  Cond. No.          } &     1.00  \\\\\n\\bottomrule\n\\end{tabular}\n%\\caption{OLS Regression Results}\n\\end{center}\n\nNotes: \\newline\n [1] R² is computed without centering (uncentered) since the model does not contain a constant. \\newline\n [2] Standard Errors are heteroscedasticity and autocorrelation robust (HAC) using 4 lags and without small sample correction"
          },
          "metadata": {},
          "execution_count": 34
        }
      ],
      "source": [
        "ols_y1_nw = sm.regression.linear_model.OLS(y1, x).fit(cov_type='HAC',cov_kwds={'maxlags':4})\n",
        "ols_y1_nw.summary()"
      ],
      "id": "8a89e913"
    },
    {
      "cell_type": "code",
      "execution_count": null,
      "metadata": {
        "colab": {
          "base_uri": "https://localhost:8080/",
          "height": 448
        },
        "id": "76eb2b95",
        "outputId": "66dc538a-8b43-40a5-d410-c5d04635b447"
      },
      "outputs": [
        {
          "output_type": "execute_result",
          "data": {
            "text/plain": [
              "<class 'statsmodels.iolib.summary.Summary'>\n",
              "\"\"\"\n",
              "                                 OLS Regression Results                                \n",
              "=======================================================================================\n",
              "Dep. Variable:                      y   R-squared (uncentered):                   0.002\n",
              "Model:                            OLS   Adj. R-squared (uncentered):             -0.008\n",
              "Method:                 Least Squares   F-statistic:                            0.08310\n",
              "Date:                Wed, 01 Nov 2023   Prob (F-statistic):                       0.774\n",
              "Time:                        19:16:39   Log-Likelihood:                         -168.67\n",
              "No. Observations:                 100   AIC:                                      339.3\n",
              "Df Residuals:                      99   BIC:                                      342.0\n",
              "Df Model:                           1                                                  \n",
              "Covariance Type:                  HAC                                                  \n",
              "==============================================================================\n",
              "                 coef    std err          z      P>|z|      [0.025      0.975]\n",
              "------------------------------------------------------------------------------\n",
              "x1             0.0010      0.004      0.288      0.773      -0.006       0.008\n",
              "==============================================================================\n",
              "Omnibus:                        0.882   Durbin-Watson:                   0.874\n",
              "Prob(Omnibus):                  0.643   Jarque-Bera (JB):                0.996\n",
              "Skew:                           0.186   Prob(JB):                        0.608\n",
              "Kurtosis:                       2.684   Cond. No.                         1.00\n",
              "==============================================================================\n",
              "\n",
              "Notes:\n",
              "[1] R² is computed without centering (uncentered) since the model does not contain a constant.\n",
              "[2] Standard Errors are heteroscedasticity and autocorrelation robust (HAC) using 4 lags and without small sample correction\n",
              "\"\"\""
            ],
            "text/html": [
              "<table class=\"simpletable\">\n",
              "<caption>OLS Regression Results</caption>\n",
              "<tr>\n",
              "  <th>Dep. Variable:</th>            <td>y</td>        <th>  R-squared (uncentered):</th>      <td>   0.002</td>\n",
              "</tr>\n",
              "<tr>\n",
              "  <th>Model:</th>                   <td>OLS</td>       <th>  Adj. R-squared (uncentered):</th> <td>  -0.008</td>\n",
              "</tr>\n",
              "<tr>\n",
              "  <th>Method:</th>             <td>Least Squares</td>  <th>  F-statistic:       </th>          <td> 0.08310</td>\n",
              "</tr>\n",
              "<tr>\n",
              "  <th>Date:</th>             <td>Wed, 01 Nov 2023</td> <th>  Prob (F-statistic):</th>           <td> 0.774</td> \n",
              "</tr>\n",
              "<tr>\n",
              "  <th>Time:</th>                 <td>19:16:39</td>     <th>  Log-Likelihood:    </th>          <td> -168.67</td>\n",
              "</tr>\n",
              "<tr>\n",
              "  <th>No. Observations:</th>      <td>   100</td>      <th>  AIC:               </th>          <td>   339.3</td>\n",
              "</tr>\n",
              "<tr>\n",
              "  <th>Df Residuals:</th>          <td>    99</td>      <th>  BIC:               </th>          <td>   342.0</td>\n",
              "</tr>\n",
              "<tr>\n",
              "  <th>Df Model:</th>              <td>     1</td>      <th>                     </th>              <td> </td>   \n",
              "</tr>\n",
              "<tr>\n",
              "  <th>Covariance Type:</th>         <td>HAC</td>       <th>                     </th>              <td> </td>   \n",
              "</tr>\n",
              "</table>\n",
              "<table class=\"simpletable\">\n",
              "<tr>\n",
              "   <td></td>     <th>coef</th>     <th>std err</th>      <th>z</th>      <th>P>|z|</th>  <th>[0.025</th>    <th>0.975]</th>  \n",
              "</tr>\n",
              "<tr>\n",
              "  <th>x1</th> <td>    0.0010</td> <td>    0.004</td> <td>    0.288</td> <td> 0.773</td> <td>   -0.006</td> <td>    0.008</td>\n",
              "</tr>\n",
              "</table>\n",
              "<table class=\"simpletable\">\n",
              "<tr>\n",
              "  <th>Omnibus:</th>       <td> 0.882</td> <th>  Durbin-Watson:     </th> <td>   0.874</td>\n",
              "</tr>\n",
              "<tr>\n",
              "  <th>Prob(Omnibus):</th> <td> 0.643</td> <th>  Jarque-Bera (JB):  </th> <td>   0.996</td>\n",
              "</tr>\n",
              "<tr>\n",
              "  <th>Skew:</th>          <td> 0.186</td> <th>  Prob(JB):          </th> <td>   0.608</td>\n",
              "</tr>\n",
              "<tr>\n",
              "  <th>Kurtosis:</th>      <td> 2.684</td> <th>  Cond. No.          </th> <td>    1.00</td>\n",
              "</tr>\n",
              "</table><br/><br/>Notes:<br/>[1] R² is computed without centering (uncentered) since the model does not contain a constant.<br/>[2] Standard Errors are heteroscedasticity and autocorrelation robust (HAC) using 4 lags and without small sample correction"
            ],
            "text/latex": "\\begin{center}\n\\begin{tabular}{lclc}\n\\toprule\n\\textbf{Dep. Variable:}    &        y         & \\textbf{  R-squared (uncentered):}      &     0.002   \\\\\n\\textbf{Model:}            &       OLS        & \\textbf{  Adj. R-squared (uncentered):} &    -0.008   \\\\\n\\textbf{Method:}           &  Least Squares   & \\textbf{  F-statistic:       }          &   0.08310   \\\\\n\\textbf{Date:}             & Wed, 01 Nov 2023 & \\textbf{  Prob (F-statistic):}          &    0.774    \\\\\n\\textbf{Time:}             &     19:16:39     & \\textbf{  Log-Likelihood:    }          &   -168.67   \\\\\n\\textbf{No. Observations:} &         100      & \\textbf{  AIC:               }          &     339.3   \\\\\n\\textbf{Df Residuals:}     &          99      & \\textbf{  BIC:               }          &     342.0   \\\\\n\\textbf{Df Model:}         &           1      & \\textbf{                     }          &             \\\\\n\\textbf{Covariance Type:}  &       HAC        & \\textbf{                     }          &             \\\\\n\\bottomrule\n\\end{tabular}\n\\begin{tabular}{lcccccc}\n            & \\textbf{coef} & \\textbf{std err} & \\textbf{z} & \\textbf{P$> |$z$|$} & \\textbf{[0.025} & \\textbf{0.975]}  \\\\\n\\midrule\n\\textbf{x1} &       0.0010  &        0.004     &     0.288  &         0.773        &       -0.006    &        0.008     \\\\\n\\bottomrule\n\\end{tabular}\n\\begin{tabular}{lclc}\n\\textbf{Omnibus:}       &  0.882 & \\textbf{  Durbin-Watson:     } &    0.874  \\\\\n\\textbf{Prob(Omnibus):} &  0.643 & \\textbf{  Jarque-Bera (JB):  } &    0.996  \\\\\n\\textbf{Skew:}          &  0.186 & \\textbf{  Prob(JB):          } &    0.608  \\\\\n\\textbf{Kurtosis:}      &  2.684 & \\textbf{  Cond. No.          } &     1.00  \\\\\n\\bottomrule\n\\end{tabular}\n%\\caption{OLS Regression Results}\n\\end{center}\n\nNotes: \\newline\n [1] R² is computed without centering (uncentered) since the model does not contain a constant. \\newline\n [2] Standard Errors are heteroscedasticity and autocorrelation robust (HAC) using 4 lags and without small sample correction"
          },
          "metadata": {},
          "execution_count": 35
        }
      ],
      "source": [
        "ols_y2_nw = sm.regression.linear_model.OLS(y2, x).fit(cov_type='HAC',cov_kwds={'maxlags':4})\n",
        "ols_y2_nw.summary()"
      ],
      "id": "76eb2b95"
    },
    {
      "cell_type": "code",
      "execution_count": null,
      "metadata": {
        "colab": {
          "base_uri": "https://localhost:8080/",
          "height": 448
        },
        "id": "9b44f6d0",
        "outputId": "1bc6ea00-bcee-4d5d-8f26-b733b07899fd"
      },
      "outputs": [
        {
          "output_type": "execute_result",
          "data": {
            "text/plain": [
              "<class 'statsmodels.iolib.summary.Summary'>\n",
              "\"\"\"\n",
              "                                 OLS Regression Results                                \n",
              "=======================================================================================\n",
              "Dep. Variable:                      y   R-squared (uncentered):                   0.296\n",
              "Model:                            OLS   Adj. R-squared (uncentered):              0.289\n",
              "Method:                 Least Squares   F-statistic:                              9.270\n",
              "Date:                Wed, 01 Nov 2023   Prob (F-statistic):                     0.00298\n",
              "Time:                        19:16:40   Log-Likelihood:                         -260.79\n",
              "No. Observations:                 100   AIC:                                      523.6\n",
              "Df Residuals:                      99   BIC:                                      526.2\n",
              "Df Model:                           1                                                  \n",
              "Covariance Type:                  HAC                                                  \n",
              "==============================================================================\n",
              "                 coef    std err          z      P>|z|      [0.025      0.975]\n",
              "------------------------------------------------------------------------------\n",
              "x1             0.0366      0.012      3.045      0.002       0.013       0.060\n",
              "==============================================================================\n",
              "Omnibus:                        2.641   Durbin-Watson:                   0.111\n",
              "Prob(Omnibus):                  0.267   Jarque-Bera (JB):                2.595\n",
              "Skew:                           0.384   Prob(JB):                        0.273\n",
              "Kurtosis:                       2.815   Cond. No.                         1.00\n",
              "==============================================================================\n",
              "\n",
              "Notes:\n",
              "[1] R² is computed without centering (uncentered) since the model does not contain a constant.\n",
              "[2] Standard Errors are heteroscedasticity and autocorrelation robust (HAC) using 4 lags and without small sample correction\n",
              "\"\"\""
            ],
            "text/html": [
              "<table class=\"simpletable\">\n",
              "<caption>OLS Regression Results</caption>\n",
              "<tr>\n",
              "  <th>Dep. Variable:</th>            <td>y</td>        <th>  R-squared (uncentered):</th>      <td>   0.296</td>\n",
              "</tr>\n",
              "<tr>\n",
              "  <th>Model:</th>                   <td>OLS</td>       <th>  Adj. R-squared (uncentered):</th> <td>   0.289</td>\n",
              "</tr>\n",
              "<tr>\n",
              "  <th>Method:</th>             <td>Least Squares</td>  <th>  F-statistic:       </th>          <td>   9.270</td>\n",
              "</tr>\n",
              "<tr>\n",
              "  <th>Date:</th>             <td>Wed, 01 Nov 2023</td> <th>  Prob (F-statistic):</th>           <td>0.00298</td>\n",
              "</tr>\n",
              "<tr>\n",
              "  <th>Time:</th>                 <td>19:16:40</td>     <th>  Log-Likelihood:    </th>          <td> -260.79</td>\n",
              "</tr>\n",
              "<tr>\n",
              "  <th>No. Observations:</th>      <td>   100</td>      <th>  AIC:               </th>          <td>   523.6</td>\n",
              "</tr>\n",
              "<tr>\n",
              "  <th>Df Residuals:</th>          <td>    99</td>      <th>  BIC:               </th>          <td>   526.2</td>\n",
              "</tr>\n",
              "<tr>\n",
              "  <th>Df Model:</th>              <td>     1</td>      <th>                     </th>              <td> </td>   \n",
              "</tr>\n",
              "<tr>\n",
              "  <th>Covariance Type:</th>         <td>HAC</td>       <th>                     </th>              <td> </td>   \n",
              "</tr>\n",
              "</table>\n",
              "<table class=\"simpletable\">\n",
              "<tr>\n",
              "   <td></td>     <th>coef</th>     <th>std err</th>      <th>z</th>      <th>P>|z|</th>  <th>[0.025</th>    <th>0.975]</th>  \n",
              "</tr>\n",
              "<tr>\n",
              "  <th>x1</th> <td>    0.0366</td> <td>    0.012</td> <td>    3.045</td> <td> 0.002</td> <td>    0.013</td> <td>    0.060</td>\n",
              "</tr>\n",
              "</table>\n",
              "<table class=\"simpletable\">\n",
              "<tr>\n",
              "  <th>Omnibus:</th>       <td> 2.641</td> <th>  Durbin-Watson:     </th> <td>   0.111</td>\n",
              "</tr>\n",
              "<tr>\n",
              "  <th>Prob(Omnibus):</th> <td> 0.267</td> <th>  Jarque-Bera (JB):  </th> <td>   2.595</td>\n",
              "</tr>\n",
              "<tr>\n",
              "  <th>Skew:</th>          <td> 0.384</td> <th>  Prob(JB):          </th> <td>   0.273</td>\n",
              "</tr>\n",
              "<tr>\n",
              "  <th>Kurtosis:</th>      <td> 2.815</td> <th>  Cond. No.          </th> <td>    1.00</td>\n",
              "</tr>\n",
              "</table><br/><br/>Notes:<br/>[1] R² is computed without centering (uncentered) since the model does not contain a constant.<br/>[2] Standard Errors are heteroscedasticity and autocorrelation robust (HAC) using 4 lags and without small sample correction"
            ],
            "text/latex": "\\begin{center}\n\\begin{tabular}{lclc}\n\\toprule\n\\textbf{Dep. Variable:}    &        y         & \\textbf{  R-squared (uncentered):}      &     0.296   \\\\\n\\textbf{Model:}            &       OLS        & \\textbf{  Adj. R-squared (uncentered):} &     0.289   \\\\\n\\textbf{Method:}           &  Least Squares   & \\textbf{  F-statistic:       }          &     9.270   \\\\\n\\textbf{Date:}             & Wed, 01 Nov 2023 & \\textbf{  Prob (F-statistic):}          &  0.00298    \\\\\n\\textbf{Time:}             &     19:16:40     & \\textbf{  Log-Likelihood:    }          &   -260.79   \\\\\n\\textbf{No. Observations:} &         100      & \\textbf{  AIC:               }          &     523.6   \\\\\n\\textbf{Df Residuals:}     &          99      & \\textbf{  BIC:               }          &     526.2   \\\\\n\\textbf{Df Model:}         &           1      & \\textbf{                     }          &             \\\\\n\\textbf{Covariance Type:}  &       HAC        & \\textbf{                     }          &             \\\\\n\\bottomrule\n\\end{tabular}\n\\begin{tabular}{lcccccc}\n            & \\textbf{coef} & \\textbf{std err} & \\textbf{z} & \\textbf{P$> |$z$|$} & \\textbf{[0.025} & \\textbf{0.975]}  \\\\\n\\midrule\n\\textbf{x1} &       0.0366  &        0.012     &     3.045  &         0.002        &        0.013    &        0.060     \\\\\n\\bottomrule\n\\end{tabular}\n\\begin{tabular}{lclc}\n\\textbf{Omnibus:}       &  2.641 & \\textbf{  Durbin-Watson:     } &    0.111  \\\\\n\\textbf{Prob(Omnibus):} &  0.267 & \\textbf{  Jarque-Bera (JB):  } &    2.595  \\\\\n\\textbf{Skew:}          &  0.384 & \\textbf{  Prob(JB):          } &    0.273  \\\\\n\\textbf{Kurtosis:}      &  2.815 & \\textbf{  Cond. No.          } &     1.00  \\\\\n\\bottomrule\n\\end{tabular}\n%\\caption{OLS Regression Results}\n\\end{center}\n\nNotes: \\newline\n [1] R² is computed without centering (uncentered) since the model does not contain a constant. \\newline\n [2] Standard Errors are heteroscedasticity and autocorrelation robust (HAC) using 4 lags and without small sample correction"
          },
          "metadata": {},
          "execution_count": 36
        }
      ],
      "source": [
        "ols_y3_nw = sm.regression.linear_model.OLS(y3, x).fit(cov_type='HAC',cov_kwds={'maxlags':4})\n",
        "ols_y3_nw.summary()"
      ],
      "id": "9b44f6d0"
    },
    {
      "cell_type": "code",
      "execution_count": null,
      "metadata": {
        "colab": {
          "base_uri": "https://localhost:8080/",
          "height": 143
        },
        "id": "cc6e782e",
        "outputId": "ef46314c-d4cf-4bbd-e45c-74071b6b710c"
      },
      "outputs": [
        {
          "output_type": "execute_result",
          "data": {
            "text/plain": [
              "             tstat  tstat - NW\n",
              "rho=0     0.154866    0.147260\n",
              "rho=0.5   0.450066    0.288278\n",
              "rho=0.95  6.448941    3.044647"
            ],
            "text/html": [
              "\n",
              "  <div id=\"df-6651baac-ae7f-4de3-88be-594a66d85147\" class=\"colab-df-container\">\n",
              "    <div>\n",
              "<style scoped>\n",
              "    .dataframe tbody tr th:only-of-type {\n",
              "        vertical-align: middle;\n",
              "    }\n",
              "\n",
              "    .dataframe tbody tr th {\n",
              "        vertical-align: top;\n",
              "    }\n",
              "\n",
              "    .dataframe thead th {\n",
              "        text-align: right;\n",
              "    }\n",
              "</style>\n",
              "<table border=\"1\" class=\"dataframe\">\n",
              "  <thead>\n",
              "    <tr style=\"text-align: right;\">\n",
              "      <th></th>\n",
              "      <th>tstat</th>\n",
              "      <th>tstat - NW</th>\n",
              "    </tr>\n",
              "  </thead>\n",
              "  <tbody>\n",
              "    <tr>\n",
              "      <th>rho=0</th>\n",
              "      <td>0.154866</td>\n",
              "      <td>0.147260</td>\n",
              "    </tr>\n",
              "    <tr>\n",
              "      <th>rho=0.5</th>\n",
              "      <td>0.450066</td>\n",
              "      <td>0.288278</td>\n",
              "    </tr>\n",
              "    <tr>\n",
              "      <th>rho=0.95</th>\n",
              "      <td>6.448941</td>\n",
              "      <td>3.044647</td>\n",
              "    </tr>\n",
              "  </tbody>\n",
              "</table>\n",
              "</div>\n",
              "    <div class=\"colab-df-buttons\">\n",
              "\n",
              "  <div class=\"colab-df-container\">\n",
              "    <button class=\"colab-df-convert\" onclick=\"convertToInteractive('df-6651baac-ae7f-4de3-88be-594a66d85147')\"\n",
              "            title=\"Convert this dataframe to an interactive table.\"\n",
              "            style=\"display:none;\">\n",
              "\n",
              "  <svg xmlns=\"http://www.w3.org/2000/svg\" height=\"24px\" viewBox=\"0 -960 960 960\">\n",
              "    <path d=\"M120-120v-720h720v720H120Zm60-500h600v-160H180v160Zm220 220h160v-160H400v160Zm0 220h160v-160H400v160ZM180-400h160v-160H180v160Zm440 0h160v-160H620v160ZM180-180h160v-160H180v160Zm440 0h160v-160H620v160Z\"/>\n",
              "  </svg>\n",
              "    </button>\n",
              "\n",
              "  <style>\n",
              "    .colab-df-container {\n",
              "      display:flex;\n",
              "      gap: 12px;\n",
              "    }\n",
              "\n",
              "    .colab-df-convert {\n",
              "      background-color: #E8F0FE;\n",
              "      border: none;\n",
              "      border-radius: 50%;\n",
              "      cursor: pointer;\n",
              "      display: none;\n",
              "      fill: #1967D2;\n",
              "      height: 32px;\n",
              "      padding: 0 0 0 0;\n",
              "      width: 32px;\n",
              "    }\n",
              "\n",
              "    .colab-df-convert:hover {\n",
              "      background-color: #E2EBFA;\n",
              "      box-shadow: 0px 1px 2px rgba(60, 64, 67, 0.3), 0px 1px 3px 1px rgba(60, 64, 67, 0.15);\n",
              "      fill: #174EA6;\n",
              "    }\n",
              "\n",
              "    .colab-df-buttons div {\n",
              "      margin-bottom: 4px;\n",
              "    }\n",
              "\n",
              "    [theme=dark] .colab-df-convert {\n",
              "      background-color: #3B4455;\n",
              "      fill: #D2E3FC;\n",
              "    }\n",
              "\n",
              "    [theme=dark] .colab-df-convert:hover {\n",
              "      background-color: #434B5C;\n",
              "      box-shadow: 0px 1px 3px 1px rgba(0, 0, 0, 0.15);\n",
              "      filter: drop-shadow(0px 1px 2px rgba(0, 0, 0, 0.3));\n",
              "      fill: #FFFFFF;\n",
              "    }\n",
              "  </style>\n",
              "\n",
              "    <script>\n",
              "      const buttonEl =\n",
              "        document.querySelector('#df-6651baac-ae7f-4de3-88be-594a66d85147 button.colab-df-convert');\n",
              "      buttonEl.style.display =\n",
              "        google.colab.kernel.accessAllowed ? 'block' : 'none';\n",
              "\n",
              "      async function convertToInteractive(key) {\n",
              "        const element = document.querySelector('#df-6651baac-ae7f-4de3-88be-594a66d85147');\n",
              "        const dataTable =\n",
              "          await google.colab.kernel.invokeFunction('convertToInteractive',\n",
              "                                                    [key], {});\n",
              "        if (!dataTable) return;\n",
              "\n",
              "        const docLinkHtml = 'Like what you see? Visit the ' +\n",
              "          '<a target=\"_blank\" href=https://colab.research.google.com/notebooks/data_table.ipynb>data table notebook</a>'\n",
              "          + ' to learn more about interactive tables.';\n",
              "        element.innerHTML = '';\n",
              "        dataTable['output_type'] = 'display_data';\n",
              "        await google.colab.output.renderOutput(dataTable, element);\n",
              "        const docLink = document.createElement('div');\n",
              "        docLink.innerHTML = docLinkHtml;\n",
              "        element.appendChild(docLink);\n",
              "      }\n",
              "    </script>\n",
              "  </div>\n",
              "\n",
              "\n",
              "<div id=\"df-77946297-56cd-4044-9f68-e48e2630fc35\">\n",
              "  <button class=\"colab-df-quickchart\" onclick=\"quickchart('df-77946297-56cd-4044-9f68-e48e2630fc35')\"\n",
              "            title=\"Suggest charts.\"\n",
              "            style=\"display:none;\">\n",
              "\n",
              "<svg xmlns=\"http://www.w3.org/2000/svg\" height=\"24px\"viewBox=\"0 0 24 24\"\n",
              "     width=\"24px\">\n",
              "    <g>\n",
              "        <path d=\"M19 3H5c-1.1 0-2 .9-2 2v14c0 1.1.9 2 2 2h14c1.1 0 2-.9 2-2V5c0-1.1-.9-2-2-2zM9 17H7v-7h2v7zm4 0h-2V7h2v10zm4 0h-2v-4h2v4z\"/>\n",
              "    </g>\n",
              "</svg>\n",
              "  </button>\n",
              "\n",
              "<style>\n",
              "  .colab-df-quickchart {\n",
              "      --bg-color: #E8F0FE;\n",
              "      --fill-color: #1967D2;\n",
              "      --hover-bg-color: #E2EBFA;\n",
              "      --hover-fill-color: #174EA6;\n",
              "      --disabled-fill-color: #AAA;\n",
              "      --disabled-bg-color: #DDD;\n",
              "  }\n",
              "\n",
              "  [theme=dark] .colab-df-quickchart {\n",
              "      --bg-color: #3B4455;\n",
              "      --fill-color: #D2E3FC;\n",
              "      --hover-bg-color: #434B5C;\n",
              "      --hover-fill-color: #FFFFFF;\n",
              "      --disabled-bg-color: #3B4455;\n",
              "      --disabled-fill-color: #666;\n",
              "  }\n",
              "\n",
              "  .colab-df-quickchart {\n",
              "    background-color: var(--bg-color);\n",
              "    border: none;\n",
              "    border-radius: 50%;\n",
              "    cursor: pointer;\n",
              "    display: none;\n",
              "    fill: var(--fill-color);\n",
              "    height: 32px;\n",
              "    padding: 0;\n",
              "    width: 32px;\n",
              "  }\n",
              "\n",
              "  .colab-df-quickchart:hover {\n",
              "    background-color: var(--hover-bg-color);\n",
              "    box-shadow: 0 1px 2px rgba(60, 64, 67, 0.3), 0 1px 3px 1px rgba(60, 64, 67, 0.15);\n",
              "    fill: var(--button-hover-fill-color);\n",
              "  }\n",
              "\n",
              "  .colab-df-quickchart-complete:disabled,\n",
              "  .colab-df-quickchart-complete:disabled:hover {\n",
              "    background-color: var(--disabled-bg-color);\n",
              "    fill: var(--disabled-fill-color);\n",
              "    box-shadow: none;\n",
              "  }\n",
              "\n",
              "  .colab-df-spinner {\n",
              "    border: 2px solid var(--fill-color);\n",
              "    border-color: transparent;\n",
              "    border-bottom-color: var(--fill-color);\n",
              "    animation:\n",
              "      spin 1s steps(1) infinite;\n",
              "  }\n",
              "\n",
              "  @keyframes spin {\n",
              "    0% {\n",
              "      border-color: transparent;\n",
              "      border-bottom-color: var(--fill-color);\n",
              "      border-left-color: var(--fill-color);\n",
              "    }\n",
              "    20% {\n",
              "      border-color: transparent;\n",
              "      border-left-color: var(--fill-color);\n",
              "      border-top-color: var(--fill-color);\n",
              "    }\n",
              "    30% {\n",
              "      border-color: transparent;\n",
              "      border-left-color: var(--fill-color);\n",
              "      border-top-color: var(--fill-color);\n",
              "      border-right-color: var(--fill-color);\n",
              "    }\n",
              "    40% {\n",
              "      border-color: transparent;\n",
              "      border-right-color: var(--fill-color);\n",
              "      border-top-color: var(--fill-color);\n",
              "    }\n",
              "    60% {\n",
              "      border-color: transparent;\n",
              "      border-right-color: var(--fill-color);\n",
              "    }\n",
              "    80% {\n",
              "      border-color: transparent;\n",
              "      border-right-color: var(--fill-color);\n",
              "      border-bottom-color: var(--fill-color);\n",
              "    }\n",
              "    90% {\n",
              "      border-color: transparent;\n",
              "      border-bottom-color: var(--fill-color);\n",
              "    }\n",
              "  }\n",
              "</style>\n",
              "\n",
              "  <script>\n",
              "    async function quickchart(key) {\n",
              "      const quickchartButtonEl =\n",
              "        document.querySelector('#' + key + ' button');\n",
              "      quickchartButtonEl.disabled = true;  // To prevent multiple clicks.\n",
              "      quickchartButtonEl.classList.add('colab-df-spinner');\n",
              "      try {\n",
              "        const charts = await google.colab.kernel.invokeFunction(\n",
              "            'suggestCharts', [key], {});\n",
              "      } catch (error) {\n",
              "        console.error('Error during call to suggestCharts:', error);\n",
              "      }\n",
              "      quickchartButtonEl.classList.remove('colab-df-spinner');\n",
              "      quickchartButtonEl.classList.add('colab-df-quickchart-complete');\n",
              "    }\n",
              "    (() => {\n",
              "      let quickchartButtonEl =\n",
              "        document.querySelector('#df-77946297-56cd-4044-9f68-e48e2630fc35 button');\n",
              "      quickchartButtonEl.style.display =\n",
              "        google.colab.kernel.accessAllowed ? 'block' : 'none';\n",
              "    })();\n",
              "  </script>\n",
              "</div>\n",
              "    </div>\n",
              "  </div>\n"
            ]
          },
          "metadata": {},
          "execution_count": 38
        }
      ],
      "source": [
        "data = {'tstat': [ols_y1.tvalues[0], ols_y2.tvalues[0], ols_y3.tvalues[0]], 'tstat - NW': [ols_y1_nw.tvalues[0], ols_y2_nw.tvalues[0], ols_y3_nw.tvalues[0]]}\n",
        "df = pd.DataFrame(data,index=[\"rho=0\", \"rho=0.5\", \"rho=0.95\"])\n",
        "df"
      ],
      "id": "cc6e782e"
    }
  ],
  "metadata": {
    "kernelspec": {
      "display_name": "Python 3 (ipykernel)",
      "language": "python",
      "name": "python3"
    },
    "language_info": {
      "codemirror_mode": {
        "name": "ipython",
        "version": 3
      },
      "file_extension": ".py",
      "mimetype": "text/x-python",
      "name": "python",
      "nbconvert_exporter": "python",
      "pygments_lexer": "ipython3",
      "version": "3.11.5"
    },
    "colab": {
      "provenance": [],
      "toc_visible": true
    }
  },
  "nbformat": 4,
  "nbformat_minor": 5
}